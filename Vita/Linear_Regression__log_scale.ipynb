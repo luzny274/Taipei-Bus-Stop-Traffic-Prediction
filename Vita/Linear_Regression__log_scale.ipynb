{
 "cells": [
  {
   "cell_type": "code",
   "execution_count": 1,
   "id": "48ee2ef1-1245-47e9-8cb9-5c2e3b0411dd",
   "metadata": {
    "colab": {
     "base_uri": "https://localhost:8080/"
    },
    "executionInfo": {
     "elapsed": 4757,
     "status": "ok",
     "timestamp": 1715099931556,
     "user": {
      "displayName": "Vítězslav Lužný",
      "userId": "03315873559140428780"
     },
     "user_tz": -480
    },
    "id": "48ee2ef1-1245-47e9-8cb9-5c2e3b0411dd",
    "outputId": "ba29e326-5175-4eea-b822-aa3b28051eb5"
   },
   "outputs": [],
   "source": [
    "import numpy as np\n",
    "import pandas as pd\n",
    "import matplotlib.pyplot as plt\n",
    "\n",
    "### Load the dataset\n",
    "\n",
    "path_to_dataset = 'FinalData.csv'\n",
    "try:\n",
    "    import google.colab\n",
    "    from google.colab import drive\n",
    "    drive.mount('/content/drive')\n",
    "\n",
    "    #CHANGE THIS\n",
    "    colab_path = \"/content/drive/MyDrive/Colab Notebooks/NTU_DA/\"\n",
    "    path_to_dataset = colab_path + path_to_dataset\n",
    "\n",
    "    IN_COLAB = True\n",
    "except:\n",
    "    IN_COLAB = False\n",
    "\n",
    "df = pd.read_csv(path_to_dataset, parse_dates=True)\n",
    "df[\"day_in_a_week\"] = pd.to_datetime(df[\"datetime\"]).dt.dayofweek #Get the day in a week\n",
    "df[\"month\"] = pd.to_datetime(df[\"datetime\"]).dt.month #Get month\n",
    "\n",
    "## Removing unnecessary features\n",
    "\n",
    "df = df.drop('datetime', axis=1) #We remove the date\n",
    "df = df.drop(\"day\", axis = 1) #We remove the day\n",
    "df = df.drop(\"next_dist\", axis = 1)\n",
    "df = df.drop(\"bus_cnt\", axis = 1)\n",
    "df = df.drop(\"bike_cnt\", axis = 1)\n",
    "df = df.drop(\"school_cnt\", axis = 1)"
   ]
  },
  {
   "cell_type": "code",
   "execution_count": 2,
   "id": "34beed7d-3145-4c36-b267-b544e74120d3",
   "metadata": {
    "colab": {
     "base_uri": "https://localhost:8080/"
    },
    "executionInfo": {
     "elapsed": 3662,
     "status": "ok",
     "timestamp": 1715099937562,
     "user": {
      "displayName": "Vítězslav Lužný",
      "userId": "03315873559140428780"
     },
     "user_tz": -480
    },
    "id": "34beed7d-3145-4c36-b267-b544e74120d3",
    "outputId": "188f95f8-7ed9-4f19-da09-8bbf0963a062"
   },
   "outputs": [
    {
     "name": "stdout",
     "output_type": "stream",
     "text": [
      "metro_flow index:  1 \n",
      "categorical indices:  [0, 2, 10, 26, 27] \n",
      "numerical indices:  [3, 4, 5, 6, 7, 8, 9, 11, 12, 13, 14, 15, 16, 17, 18, 19, 20, 21, 22, 23, 24, 25]\n",
      "\n",
      "\n",
      "7 unique mrt_station:\t ['中山', '北投', '北門', '古亭', '士林', '大橋頭', '松山']\n",
      "24 unique hour:\t [0, 1, 5, 6, 7, 8, 9, 10, 11, 12, 13, 14, 15, 16, 17, 18, 19, 20, 21, 22, 23, 2, 3, 4]\n",
      "5 unique status:\t ['良好', '普通', '對敏感族群不健康', nan, '對所有族群不健康']\n",
      "7 unique day_in_a_week:\t [2, 3, 4, 5, 6, 0, 1]\n",
      "12 unique month:\t [6, 7, 8, 9, 10, 11, 12, 1, 2, 3, 4, 5]\n"
     ]
    }
   ],
   "source": [
    "#Dataset information\n",
    "# categorical_variables = [\"mrt_station\", \"hour\", \"day\", \"status\", \"day_in_a_week\", \"month\"]\n",
    "categorical_variables = [\"mrt_station\", \"hour\", \"status\", \"day_in_a_week\", \"month\"]\n",
    "\n",
    "y_ind = df.columns.get_loc(\"mrt_flow\")\n",
    "cat_indices = [df.columns.get_loc(categorical_variables[i]) for i in range(len(categorical_variables))]\n",
    "real_indices = [i for i in list(range(0, len(df.columns))) if (i not in cat_indices and i != y_ind)]\n",
    "print(\"metro_flow index: \", y_ind, \"\\ncategorical indices: \", cat_indices, \"\\nnumerical indices: \", real_indices)\n",
    "\n",
    "\n",
    "unique_station_names = list(dict.fromkeys([df[\"mrt_station\"][i] for i in range(len(df))]))\n",
    "unique_status        = list(dict.fromkeys([df[\"status\"][i] for i in range(len(df))]))\n",
    "print(\"\\n\")\n",
    "category_cnt = 0\n",
    "for var in categorical_variables:\n",
    "    unique_vals = list(dict.fromkeys([df[var][i] for i in range(len(df))]))\n",
    "    print(str(len(unique_vals)) + \" unique \" + var + \":\\t\", unique_vals)\n",
    "    category_cnt += len(unique_vals)\n"
   ]
  },
  {
   "cell_type": "code",
   "execution_count": 3,
   "id": "69dc1f3f-9abb-45f1-a8a7-ea1e60156c05",
   "metadata": {
    "colab": {
     "base_uri": "https://localhost:8080/"
    },
    "executionInfo": {
     "elapsed": 3672,
     "status": "ok",
     "timestamp": 1715099943807,
     "user": {
      "displayName": "Vítězslav Lužný",
      "userId": "03315873559140428780"
     },
     "user_tz": -480
    },
    "id": "69dc1f3f-9abb-45f1-a8a7-ea1e60156c05",
    "outputId": "e8d61f62-a722-4f67-acdf-7bf7454cf9cf"
   },
   "outputs": [
    {
     "name": "stdout",
     "output_type": "stream",
     "text": [
      "Processing station names\n",
      "\tFirst occurance of 中山: 0\n",
      "\tFirst occurance of 北投: 1\n",
      "\tFirst occurance of 北門: 2\n",
      "\tFirst occurance of 古亭: 3\n",
      "\tFirst occurance of 士林: 4\n",
      "\tFirst occurance of 大橋頭: 5\n",
      "\tFirst occurance of 松山: 6\n",
      "\n",
      "Processing station status\n",
      "\tFirst occurance of 良好: 0\n",
      "\tFirst occurance of 普通: 54\n",
      "\tFirst occurance of 對敏感族群不健康: 7556\n",
      "\tFirst occurance of 對所有族群不健康: 15096\n",
      "\n",
      "Train-val-test split\n",
      "\tTrain start index: 0\n",
      "\tVal start index: 52361\n",
      "\tTest start index: 59841\n"
     ]
    }
   ],
   "source": [
    "import sklearn.model_selection\n",
    "import sklearn.pipeline\n",
    "import sklearn.preprocessing\n",
    "import sklearn.compose\n",
    "import sklearn.linear_model\n",
    "\n",
    "data = df.to_numpy()\n",
    "\n",
    "\n",
    "#Convert station names to ints\n",
    "print(\"Processing station names\")\n",
    "for i in range(len(unique_station_names)):\n",
    "    print(\"\\tFirst occurance of \" + unique_station_names[i] + \":\", np.nonzero(data == unique_station_names[i])[0][0])\n",
    "    data[data == unique_station_names[i]] = i\n",
    "\n",
    "print(\"\\nProcessing station status\")\n",
    "#Convert status names to ints\n",
    "for i in range(len(unique_status)):\n",
    "    occurances = np.nonzero(data == unique_status[i])[0]\n",
    "    if len(occurances) > 0:\n",
    "        print(\"\\tFirst occurance of \" + str(unique_status[i]) + \":\", occurances[0])\n",
    "    data[data == unique_status[i]] = i\n",
    "\n",
    "#Replace missing values with NaNs\n",
    "data[data == \"-\"] = np.nan\n",
    "\n",
    "##Train test split\n",
    "train_split_ratio = 0.7\n",
    "val_split_ratio = 0.1\n",
    "test_split_ratio = 0.2\n",
    "\n",
    "sample_cnt = data.shape[0]\n",
    "train_sz = int(train_split_ratio * sample_cnt)\n",
    "val_sz = int(val_split_ratio * sample_cnt)\n",
    "test_sz = int(test_split_ratio * sample_cnt)\n",
    "\n",
    "val_ind = train_sz + val_sz\n",
    "test_ind = val_ind + test_sz\n",
    "\n",
    "print(\"\\nTrain-val-test split\")\n",
    "print(\"\\tTrain start index:\", 0)\n",
    "print(\"\\tVal start index:\", train_sz)\n",
    "print(\"\\tTest start index:\", val_ind)\n",
    "\n",
    "Y_train_raw = data[:train_sz, y_ind][:, None]\n",
    "X_train_raw = data[:train_sz, cat_indices + real_indices]\n",
    "\n",
    "Y_val_raw = data[train_sz:val_ind, y_ind][:, None]\n",
    "X_val_raw = data[train_sz:val_ind, cat_indices + real_indices]\n",
    "\n",
    "Y_test_raw = data[val_ind:test_ind, y_ind][:, None]\n",
    "X_test_raw = data[val_ind:test_ind, cat_indices + real_indices]\n",
    "\n",
    "##Preprocessing\n",
    "new_cat_indices = list(range(len(cat_indices)))\n",
    "new_real_indices = list(range(len(cat_indices), len(cat_indices) + len(real_indices)))\n",
    "\n",
    "#One hot encoding for categories, Robust scaling for numerical values\n",
    "X_preprocessor = sklearn.compose.ColumnTransformer(\n",
    "    transformers=[\n",
    "        (\"cat\", sklearn.preprocessing.OneHotEncoder(categories='auto', handle_unknown=\"ignore\"), new_cat_indices),\n",
    "        (\"num\", sklearn.preprocessing.RobustScaler(), new_real_indices)\n",
    "    ]\n",
    ")\n",
    "X_preprocessor.fit(X_train_raw)\n",
    "X_train = X_preprocessor.transform(X_train_raw)\n",
    "X_val   = X_preprocessor.transform(X_val_raw)\n",
    "X_test  = X_preprocessor.transform(X_test_raw)"
   ]
  },
  {
   "cell_type": "code",
   "execution_count": 4,
   "id": "U4qr2DVngY3W",
   "metadata": {
    "colab": {
     "base_uri": "https://localhost:8080/",
     "height": 1000
    },
    "executionInfo": {
     "elapsed": 2269,
     "status": "ok",
     "timestamp": 1715099948574,
     "user": {
      "displayName": "Vítězslav Lužný",
      "userId": "03315873559140428780"
     },
     "user_tz": -480
    },
    "id": "U4qr2DVngY3W",
    "outputId": "c4a9a6d3-3005-4e24-ede2-8f0cb63f7704"
   },
   "outputs": [
    {
     "data": {
      "image/png": "[encoded data removed]",
      "text/plain": [
       "<Figure size 640x480 with 1 Axes>"
      ]
     },
     "metadata": {},
     "output_type": "display_data"
    },
    {
     "data": {
      "image/png": "[encoded data removed]",
      "text/plain": [
       "<Figure size 640x480 with 1 Axes>"
      ]
     },
     "metadata": {},
     "output_type": "display_data"
    },
    {
     "data": {
      "image/png": "[encoded data removed]",
      "text/plain": [
       "<Figure size 640x480 with 1 Axes>"
      ]
     },
     "metadata": {},
     "output_type": "display_data"
    }
   ],
   "source": [
    "step = Y_train_raw.max() / 100\n",
    "e = 0.00001\n",
    "bins = np.arange(Y_train_raw.min() - e, Y_train_raw.max() + step, step)\n",
    "\n",
    "plt.hist(Y_train_raw, bins=bins, rwidth = 0.5)\n",
    "plt.title(\"Y distribution histogram\")\n",
    "plt.show()\n",
    "\n",
    "plt.hist(Y_train_raw, bins=bins, rwidth = 0.5)\n",
    "plt.gca().set_yscale('log')\n",
    "plt.title(\"Y distribution histogram log scale axis\")\n",
    "plt.show()\n",
    "\n",
    "Y_train_raw_mod = np.log(Y_train_raw.astype(float) + 1)\n",
    "step = Y_train_raw_mod.max() / 100\n",
    "bins = np.arange(Y_train_raw_mod.min() - e, Y_train_raw_mod.max() + step, step)\n",
    "plt.hist(Y_train_raw_mod, bins=bins, rwidth = 0.5)\n",
    "plt.title(\"Y distribution histogram log scale values\")\n",
    "plt.show()\n",
    "\n",
    "## Transforming Y\n",
    "# Y_scaler = sklearn.preprocessing.RobustScaler().fit(Y_train_raw)\n",
    "# Y_train = Y_scaler.transform(Y_train_raw)\n",
    "# Y_val   = Y_scaler.transform(Y_val_raw)\n",
    "# Y_test  = Y_scaler.transform(Y_test_raw)\n",
    "\n",
    "# def Y_inverse_transform(Y):\n",
    "#     return Y_scaler.inverse_transform(Y)\n",
    "\n",
    "#We apply log scaling for Y\n",
    "Y_train_raw_log = np.log(Y_train_raw.astype(float) + 1)\n",
    "Y_val_raw_log   = np.log(Y_val_raw.astype(float) + 1)\n",
    "Y_test_raw_log  = np.log(Y_test_raw.astype(float) + 1)\n",
    "\n",
    "print(Y_train_raw_log.min(), Y_train_raw_log.max())\n",
    "\n",
    "#Robust scaling for Y\n",
    "Y_scaler = sklearn.preprocessing.RobustScaler().fit(Y_train_raw_log)\n",
    "Y_train = Y_scaler.transform(Y_train_raw_log)\n",
    "Y_val   = Y_scaler.transform(Y_val_raw_log)\n",
    "Y_test  = Y_scaler.transform(Y_test_raw_log)\n",
    "\n",
    "def Y_inverse_transform(Y):\n",
    "  return np.exp(Y_scaler.inverse_transform(Y)) - 1\n",
    "\n",
    "#Replace NaNs with zeros\n",
    "X_train[np.isnan(X_train)] = 0\n",
    "X_val[np.isnan(X_val)] = 0\n",
    "X_test[np.isnan(X_test)] = 0"
   ]
  },
  {
   "cell_type": "markdown",
   "id": "432da9e4-534f-4e19-a6ad-23d003ef46b0",
   "metadata": {
    "id": "432da9e4-534f-4e19-a6ad-23d003ef46b0"
   },
   "source": [
    "# Sklearn Linear Regression"
   ]
  },
  {
   "cell_type": "code",
   "execution_count": 5,
   "id": "37048c2f-a040-4796-805f-2c9e1251d623",
   "metadata": {
    "colab": {
     "base_uri": "https://localhost:8080/"
    },
    "executionInfo": {
     "elapsed": 770,
     "status": "ok",
     "timestamp": 1715099954046,
     "user": {
      "displayName": "Vítězslav Lužný",
      "userId": "03315873559140428780"
     },
     "user_tz": -480
    },
    "id": "37048c2f-a040-4796-805f-2c9e1251d623",
    "outputId": "3ee0ea2b-3009-4223-ffcb-4e7d4febe1e9"
   },
   "outputs": [
    {
     "name": "stdout",
     "output_type": "stream",
     "text": [
      "Train metrics:\n",
      "\tMSE: 0.19992688197659048\n",
      "\tOriginal scale MSE: 801307.7426697025\n",
      "\n",
      "\tRMSE: 0.4471318395916248\n",
      "\tOriginal scale RMSE: 895.1579428624328\n",
      "\n",
      "\tMAE: 0.30332959724346414\n",
      "\tOriginal scale MAE: 607.2658536814151\n",
      "\n",
      "Validation metrics:\n",
      "\tMSE: 0.2376682656772188\n",
      "\tOriginal scale MSE: 952575.3595073557\n",
      "\n",
      "\tRMSE: 0.4875123236157408\n",
      "\tOriginal scale RMSE: 975.9996718787131\n",
      "\n",
      "\tMAE: 0.31990446894892066\n",
      "\tOriginal scale MAE: 640.4487468357393\n",
      "\n",
      "Test metrics:\n",
      "\tMSE: 0.2788394491674077\n",
      "\tOriginal scale MSE: 1117589.6276207666\n",
      "\n",
      "\tRMSE: 0.5280525060705684\n",
      "\tOriginal scale RMSE: 1057.161117153278\n",
      "\n",
      "\tMAE: 0.34286529311183\n",
      "\tOriginal scale MAE: 686.4163168098837\n"
     ]
    }
   ],
   "source": [
    "LR = sklearn.linear_model.LinearRegression(n_jobs=-1).fit(X_train, Y_train)\n",
    "\n",
    "def print_metrics(X, Y):\n",
    "    Y_hat = LR.predict(X)\n",
    "\n",
    "    MSE = np.mean((Y_hat - Y) ** 2)\n",
    "    orig_MSE = np.mean((Y_inverse_transform(Y_hat) - Y_inverse_transform(Y)) ** 2)\n",
    "    print(\"\\tMSE:\", MSE)\n",
    "    print(\"\\tOriginal scale MSE:\", orig_MSE)\n",
    "\n",
    "    print(\"\\n\\tRMSE:\", np.sqrt(MSE))\n",
    "    print(\"\\tOriginal scale RMSE:\", np.sqrt(orig_MSE))\n",
    "\n",
    "    print(\"\\n\\tMAE:\", np.mean(np.abs(Y_hat - Y)))\n",
    "    print(\"\\tOriginal scale MAE:\", np.mean(np.abs(Y_inverse_transform(Y_hat) - Y_inverse_transform(Y))))\n",
    "\n",
    "print(\"Train metrics:\")\n",
    "print_metrics(X_train, Y_train)\n",
    "print(\"\\nValidation metrics:\")\n",
    "print_metrics(X_val, Y_val)\n",
    "print(\"\\nTest metrics:\")\n",
    "print_metrics(X_test, Y_test)\n",
    "\n",
    "# removed_variables = []\n",
    "# for i in range(1, X_train.shape[1]):\n",
    "    \n",
    "#     x_vars = [ii for ii in range(X_train.shape[1]) if ii != i and ii not in removed_variables]\n",
    "#     LR = sklearn.linear_model.LinearRegression(n_jobs=-1).fit(X_train[:, x_vars], X_train[:, i])\n",
    "\n",
    "#     tol = 1e-2\n",
    "#     MSE = np.mean((LR.predict(X_train[:, x_vars]) - X_train[:, i]) ** 2 )\n",
    "#     print(\"{} MSE:{}\".format(i, MSE))\n",
    "#     if tol > MSE:\n",
    "#         removed_variables.append(i)"
   ]
  },
  {
   "cell_type": "markdown",
   "id": "6794c884-826a-44c7-b68d-07e5eab60db7",
   "metadata": {
    "id": "6794c884-826a-44c7-b68d-07e5eab60db7"
   },
   "source": [
    "# Sklearn MLP"
   ]
  },
  {
   "cell_type": "code",
   "execution_count": 6,
   "id": "142a9caa-3cbb-4c2e-a9c1-4d2774da25e6",
   "metadata": {
    "colab": {
     "background_save": true,
     "base_uri": "https://localhost:8080/"
    },
    "id": "142a9caa-3cbb-4c2e-a9c1-4d2774da25e6"
   },
   "outputs": [
    {
     "name": "stdout",
     "output_type": "stream",
     "text": [
      "Train metrics:\n",
      "\tMSE: 0.023555371545449517\n",
      "\tOriginal scale MSE: 94410.02337564784\n",
      "\n",
      "\tRMSE: 0.15347759297516206\n",
      "\tOriginal scale RMSE: 307.26214113627447\n",
      "\n",
      "\tMAE: 0.0749172087332253\n",
      "\tOriginal scale MAE: 149.98425188391704\n",
      "\n",
      "Validation metrics:\n",
      "\tMSE: 0.08482267983469503\n",
      "\tOriginal scale MSE: 339969.640068177\n",
      "\n",
      "\tRMSE: 0.29124333440388817\n",
      "\tOriginal scale RMSE: 583.0691554765841\n",
      "\n",
      "\tMAE: 0.1524093154690844\n",
      "\tOriginal scale MAE: 305.12344956910687\n",
      "\n",
      "Test metrics:\n",
      "\tMSE: 0.10934316480511584\n",
      "\tOriginal scale MSE: 438247.84191156353\n",
      "\n",
      "\tRMSE: 0.3306707800896775\n",
      "\tOriginal scale RMSE: 662.0029017395343\n",
      "\n",
      "\tMAE: 0.19527696240228387\n",
      "\tOriginal scale MAE: 390.94447872937235\n"
     ]
    }
   ],
   "source": [
    "from sklearn.neural_network import MLPRegressor\n",
    "\n",
    "MLP = MLPRegressor(max_iter=2000, hidden_layer_sizes = (1000)).fit(X_train, np.ravel(Y_train))\n",
    "\n",
    "def print_metrics(X, Y):\n",
    "    Y_hat = MLP.predict(X)[:, None]\n",
    "\n",
    "    MSE = np.mean((Y_hat - Y) ** 2)\n",
    "    orig_MSE = np.mean((Y_inverse_transform(Y_hat) - Y_inverse_transform(Y)) ** 2)\n",
    "    print(\"\\tMSE:\", MSE)\n",
    "    print(\"\\tOriginal scale MSE:\", orig_MSE)\n",
    "\n",
    "    print(\"\\n\\tRMSE:\", np.sqrt(MSE))\n",
    "    print(\"\\tOriginal scale RMSE:\", np.sqrt(orig_MSE))\n",
    "\n",
    "    print(\"\\n\\tMAE:\", np.mean(np.abs(Y_hat - Y)))\n",
    "    print(\"\\tOriginal scale MAE:\", np.mean(np.abs(Y_inverse_transform(Y_hat) - Y_inverse_transform(Y))))\n",
    "\n",
    "print(\"Train metrics:\")\n",
    "print_metrics(X_train, Y_train)\n",
    "print(\"\\nValidation metrics:\")\n",
    "print_metrics(X_val, Y_val)\n",
    "print(\"\\nTest metrics:\")\n",
    "print_metrics(X_test, Y_test)"
   ]
  },
  {
   "cell_type": "markdown",
   "id": "bb4879e0-4073-441b-8f66-a3117dda2f00",
   "metadata": {
    "id": "bb4879e0-4073-441b-8f66-a3117dda2f00"
   },
   "source": [
    "# PyTorch initialization"
   ]
  },
  {
   "cell_type": "code",
   "execution_count": 7,
   "id": "a1ca8b37-8e58-4501-98f7-e40c489f5af7",
   "metadata": {
    "id": "a1ca8b37-8e58-4501-98f7-e40c489f5af7",
    "outputId": "d7d61b49-8b1c-4ece-c6f8-fa766bee33b2"
   },
   "outputs": [
    {
     "name": "stdout",
     "output_type": "stream",
     "text": [
      "Cuda available:  True\n",
      "Using Cuda:  True\n",
      "NVIDIA GeForce RTX 3060\n"
     ]
    }
   ],
   "source": [
    "import torch\n",
    "import torchvision\n",
    "import torch.nn as nn\n",
    "import torch.nn.functional as F\n",
    "import torch.optim as optim\n",
    "import torch.optim.lr_scheduler as lr_scheduler\n",
    "import copy\n",
    "import time\n",
    "\n",
    "default_dtype = torch.float32\n",
    "torch.set_default_dtype(default_dtype)\n",
    "\n",
    "#Initialize PyTorch\n",
    "USE_CUDA = True\n",
    "\n",
    "cuda_available = torch.cuda.is_available()\n",
    "print(\"Cuda available: \", cuda_available)\n",
    "print(\"Using Cuda: \", USE_CUDA)\n",
    "\n",
    "if cuda_available:\n",
    "  # print(torch.cuda.current_device())\n",
    "  # print(torch.cuda.device_count())\n",
    "  print(torch.cuda.get_device_name(0))\n",
    "  cuda_device = torch.device(\"cuda:0\")\n",
    "\n",
    "#Move the dataset to GPU\n",
    "input_size = X_train.shape[1]\n",
    "X_train_t = torch.from_numpy(X_train).to(dtype = default_dtype)\n",
    "X_val_t   = torch.from_numpy(X_val  ).to(dtype = default_dtype)\n",
    "X_test_t  = torch.from_numpy(X_test ).to(dtype = default_dtype)\n",
    "Y_train_t = torch.from_numpy(Y_train).to(dtype = default_dtype)\n",
    "Y_val_t   = torch.from_numpy(Y_val  ).to(dtype = default_dtype)\n",
    "Y_test_t  = torch.from_numpy(Y_test ).to(dtype = default_dtype)\n",
    "\n",
    "if USE_CUDA and cuda_available:\n",
    "    X_train_t = X_train_t.cuda()\n",
    "    X_val_t   = X_val_t.cuda()\n",
    "    X_test_t  = X_test_t.cuda()\n",
    "    Y_train_t = Y_train_t.cuda()\n",
    "    Y_val_t   = Y_val_t.cuda()\n",
    "    Y_test_t  = Y_test_t.cuda()\n",
    "\n",
    "loss_functions = {\n",
    "    'SmoothL1': F.smooth_l1_loss,\n",
    "    'L1': F.l1_loss,\n",
    "    'MSE': F.mse_loss\n",
    "}"
   ]
  },
  {
   "cell_type": "markdown",
   "id": "a14b79b1-47dc-4079-83e7-a540655ddc67",
   "metadata": {
    "id": "a14b79b1-47dc-4079-83e7-a540655ddc67"
   },
   "source": [
    "# PyTorch training implementation"
   ]
  },
  {
   "cell_type": "code",
   "execution_count": 8,
   "id": "10e77347-3df8-4c2f-8aea-ba31319f0212",
   "metadata": {
    "id": "10e77347-3df8-4c2f-8aea-ba31319f0212"
   },
   "outputs": [],
   "source": [
    "##Initialize model weights\n",
    "def weights_init(layer_in):\n",
    "  if isinstance(layer_in, nn.Linear):\n",
    "    torch.nn.init.xavier_uniform_(layer_in.weight, gain=0.5)\n",
    "    layer_in.bias.data.fill_(0.0)\n",
    "\n",
    "## Turn data into sequences that can be used for training\n",
    "def get_batch_sequences(batch_idx, batch_size, permutation, X, Y):\n",
    "    sample_sz = X.shape[0]\n",
    "\n",
    "    batch_start = batch_idx * batch_size\n",
    "    batch_end   = min(sample_sz, (batch_idx + 1) * batch_size)\n",
    "    actual_size = batch_end - batch_start\n",
    "\n",
    "    batch_indeces = permutation[batch_start:batch_end]\n",
    "    batch_target = Y[batch_indeces]\n",
    "    batch_data = X[batch_indeces]\n",
    "\n",
    "    return [batch_data, batch_target, actual_size]\n",
    "\n",
    "## Training step\n",
    "def train(epoch, model, optimizer, scheduler, X, Y, batch_size, loss_fnc, print_mode):\n",
    "    model.train()\n",
    "\n",
    "    sample_sz = X.shape[0]\n",
    "    perm = np.random.permutation(sample_sz)\n",
    "\n",
    "    total_loss = 0\n",
    "    for batch_idx in range(0, int(np.ceil(sample_sz / batch_size))):\n",
    "        batch_data, batch_target, actual_size = get_batch_sequences(batch_idx, batch_size, perm, X, Y)\n",
    "\n",
    "        output = model(batch_data)\n",
    "        loss = loss_fnc(output, batch_target, reduction=\"mean\")\n",
    "        total_loss += loss.item()\n",
    "\n",
    "        loss.backward()\n",
    "        optimizer.step()\n",
    "        scheduler.step()\n",
    "        # print(optimizer.param_groups[0]['lr'])\n",
    "        if print_mode:\n",
    "            print('Epoch:{} \\tTrain loss: {:.7f}'.format(epoch, total_loss / (batch_idx + 1)), end=\"\\r\")\n",
    "\n",
    "    total_loss /= np.ceil(sample_sz / batch_size)\n",
    "    if not print_mode:\n",
    "        print('Epoch:{} \\tTrain loss: {:.7f}'.format(epoch, total_loss), end=\"\\r\")\n",
    "\n",
    "    return total_loss\n",
    "\n",
    "## Testing\n",
    "def test(model, X, Y, batch_size, loss_fnc):\n",
    "    model.eval()\n",
    "    test_loss = 0\n",
    "\n",
    "    sample_sz = X.shape[0]\n",
    "    with torch.no_grad():\n",
    "        perm = np.random.permutation(sample_sz)\n",
    "\n",
    "        for batch_idx in range(0, int(np.ceil(sample_sz / batch_size))):\n",
    "            batch_data, batch_target, actual_size = get_batch_sequences(batch_idx, batch_size, perm, X, Y)\n",
    "\n",
    "            output = model(batch_data)\n",
    "            test_loss += loss_fnc(output, batch_target, reduction=\"mean\").item()\n",
    "\n",
    "    test_loss /= np.ceil(sample_sz / batch_size)\n",
    "    return test_loss\n",
    "\n",
    "def predict(model, X, batch_size):\n",
    "    model.eval()\n",
    "    test_loss = 0\n",
    "\n",
    "    sample_sz = X.shape[0]\n",
    "    Y_dummy = np.zeros((sample_sz, 1))\n",
    "    Y_hat = np.zeros((sample_sz, 1))\n",
    "\n",
    "    with torch.no_grad():\n",
    "        perm = np.arange(0, sample_sz)\n",
    "\n",
    "        for batch_idx in range(0, int(np.ceil(sample_sz / batch_size))):\n",
    "            batch_data, batch_target, actual_size = get_batch_sequences(batch_idx, batch_size, perm, X, Y_dummy)\n",
    "\n",
    "            output = model(batch_data)\n",
    "\n",
    "            start_idx = batch_idx * batch_size\n",
    "            end_idx = start_idx + actual_size\n",
    "\n",
    "            Y_hat[start_idx:end_idx] = output[:].cpu()\n",
    "\n",
    "    return Y_hat"
   ]
  },
  {
   "cell_type": "markdown",
   "id": "03c34b9c-5455-4274-9597-1a8514a84c2a",
   "metadata": {
    "id": "03c34b9c-5455-4274-9597-1a8514a84c2a"
   },
   "source": [
    "# Training and Grid search procedures"
   ]
  },
  {
   "cell_type": "code",
   "execution_count": 9,
   "id": "f3d59fb3-8161-41b0-83a7-f3977e7bbd69",
   "metadata": {
    "id": "f3d59fb3-8161-41b0-83a7-f3977e7bbd69"
   },
   "outputs": [],
   "source": [
    "## The whole training\n",
    "def train_model(model_class, params, print_mode):\n",
    "    model = model_class(params)\n",
    "    loss_fnc = loss_functions[params[\"loss\"]]\n",
    "    epochs = params[\"epochs\"]\n",
    "    lr = params[\"lr\"]\n",
    "    batch_size = params[\"batch_size\"]\n",
    "    weight_decay = params[\"weight_decay\"]\n",
    "\n",
    "\n",
    "    if USE_CUDA and cuda_available:\n",
    "      model = model.cuda()\n",
    "    model.apply(weights_init)\n",
    "\n",
    "    optimizer = optim.Adam(model.parameters(), lr=lr, weight_decay=weight_decay)\n",
    "\n",
    "    start_time = time.time()\n",
    "\n",
    "    # Get initial performance\n",
    "    test_loss = test(model, X_val_t, Y_val_t, batch_size, loss_functions[params[\"loss\"]])\n",
    "    if print_mode:\n",
    "        print('\\nInitial: Test loss: {:.7f}\\n'.format(test_loss))\n",
    "\n",
    "    # Train\n",
    "    train_loss = None\n",
    "    train_losses = []\n",
    "    val_losses = []\n",
    "\n",
    "    scheduler = lr_scheduler.CosineAnnealingLR(optimizer, T_max=int(epochs * np.ceil(X_train_t.shape[0] / batch_size)), eta_min=0) #Cosine decay\n",
    "    for epoch in range(1, epochs + 1):\n",
    "        train_loss = train(epoch, model, optimizer, scheduler, X_train_t, Y_train_t, batch_size, loss_fnc, print_mode)\n",
    "\n",
    "        if print_mode:\n",
    "            # train_loss = test(model, X_train_t, Y_train_t, batch_size, loss_fnc)\n",
    "            val_loss   = test(model, X_val_t, Y_val_t, batch_size, loss_fnc)\n",
    "            train_losses.append(train_loss)\n",
    "            val_losses.append(val_loss)\n",
    "            print('Epoch:' + str(epoch) + ' \\tTrain loss: {:.7f} \\tVal loss: {:.7f}'.format(train_loss, val_loss))\n",
    "\n",
    "    final_val_loss = None\n",
    "    if not print_mode:\n",
    "        final_val_loss = test(model, X_val_t, Y_val_t, batch_size, loss_fnc)\n",
    "    else:\n",
    "        final_val_loss = val_losses[-1]\n",
    "    print(\"\\nTime to train: {:.3f}s\\t final val loss:{:.7f}\".format(time.time() - start_time, final_val_loss))\n",
    "\n",
    "    if print_mode:\n",
    "        return [model, train_losses, val_losses]\n",
    "    else:\n",
    "        return [model, train_loss, final_val_loss]\n",
    "\n",
    "## Grid search\n",
    "def grid_search(model_class, param_variations):\n",
    "    best_val_loss = float(\"inf\")\n",
    "    best_params = None\n",
    "\n",
    "    grid_val_losses = []\n",
    "    grid_train_losses = []\n",
    "\n",
    "    for i in range(len(param_variations)):\n",
    "        params = param_variations[i]\n",
    "        print(\"\\nGrid search step {}/{}\".format(i + 1, len(param_variations)), \"\\t| params:\", params)\n",
    "\n",
    "        model, train_loss, val_loss = train_model(model_class, params, print_mode=False)\n",
    "\n",
    "        grid_val_losses.append(val_loss)\n",
    "        grid_train_losses.append(train_loss)\n",
    "\n",
    "        if best_val_loss > val_loss:\n",
    "            print(\"New best!\")\n",
    "            best_val_loss = val_loss\n",
    "            best_params = params\n",
    "\n",
    "    print(\"\\nBest validation loss: \", best_val_loss)\n",
    "    print(\"Best params: \", best_params)\n",
    "    model, train_losses, val_losses = train_model(model_class, best_params, print_mode=True)\n",
    "    return [model, train_losses, val_losses, best_params, grid_val_losses, grid_train_losses]\n",
    "\n",
    "## Create list of parameter dictionaries for grid search\n",
    "def create_param_dict_from_lists(list_of_params, list_of_names):\n",
    "    params = []\n",
    "\n",
    "    feature_vals = list_of_params[0]\n",
    "    feature_name = list_of_names[0]\n",
    "    for feature_val in feature_vals:\n",
    "        params_row = {}\n",
    "        params_row[feature_name] = feature_val\n",
    "        params.append(params_row)\n",
    "\n",
    "    for i in range(1, len(list_of_params)):\n",
    "        feature_vals = list_of_params[i]\n",
    "        feature_name = list_of_names[i]\n",
    "\n",
    "        old_params = params\n",
    "        new_params = []\n",
    "        for past_param in old_params:\n",
    "            for feature_val in feature_vals:\n",
    "                params_row = copy.copy(past_param)\n",
    "                params_row[feature_name] = feature_val\n",
    "                new_params.append(params_row)\n",
    "        params = new_params\n",
    "\n",
    "    return params\n",
    "\n",
    "## Grid search plotting\n",
    "def plot_grid(grid_values, title, x_label, y_label, x_values, y_values):\n",
    "    plt.matshow(grid_values)\n",
    "    plt.title(title)\n",
    "    plt.xlabel(x_label)\n",
    "    plt.ylabel(y_label)\n",
    "    plt.colorbar()\n",
    "    plt.xticks(list(range(len(x_values))), x_values)\n",
    "    plt.yticks(list(range(len(y_values))), y_values)\n",
    "\n",
    "    for (i, j), z in np.ndenumerate(grid_values):\n",
    "        plt.text(j, i, '{:0.5f}'.format(z), ha='center', va='center')\n",
    "\n",
    "    plt.show()\n",
    "\n",
    "## Plot training progress\n",
    "def plot_losses(train_losses, val_losses, title):\n",
    "    plt.title(title)\n",
    "    plt.plot(train_losses, label=\"train loss\")\n",
    "    plt.plot(val_losses, label=\"val loss\")\n",
    "    plt.xlabel(\"epochs\")\n",
    "    plt.ylabel(\"MSE\")\n",
    "    plt.legend()\n",
    "    plt.show()\n",
    "\n",
    "## Evaluation\n",
    "def evaluate_model(model, batch_size):\n",
    "    def print_metrics(model, X, Y, batch_size):\n",
    "        Y_hat = predict(model, X, batch_size)\n",
    "\n",
    "        MSE = np.mean((Y_hat - Y) ** 2)\n",
    "        orig_MSE = np.mean((Y_inverse_transform(Y_hat) - Y_inverse_transform(Y)) ** 2)\n",
    "        print(\"\\tMSE:\", MSE)\n",
    "        print(\"\\tOriginal scale MSE:\", orig_MSE)\n",
    "\n",
    "        print(\"\\n\\tRMSE:\", np.sqrt(MSE))\n",
    "        print(\"\\tOriginal scale RMSE:\", np.sqrt(orig_MSE))\n",
    "\n",
    "        print(\"\\n\\tMAE:\", np.mean(np.abs(Y_hat - Y)))\n",
    "        print(\"\\tOriginal scale MAE:\", np.mean(np.abs(Y_inverse_transform(Y_hat) - Y_inverse_transform(Y))))\n",
    "\n",
    "    print(\"Train metrics:\")\n",
    "    print_metrics(model, X_train_t, Y_train, batch_size)\n",
    "    print(\"\\nValidation metrics:\")\n",
    "    print_metrics(model, X_val_t, Y_val, batch_size)\n",
    "    print(\"\\nTest metrics:\")\n",
    "    print_metrics(model, X_test_t, Y_test, batch_size)"
   ]
  },
  {
   "cell_type": "markdown",
   "id": "111623e1-8787-477d-a1c2-dfeae13e179b",
   "metadata": {
    "id": "111623e1-8787-477d-a1c2-dfeae13e179b"
   },
   "source": [
    "# PyTorch Linear Regression implementation"
   ]
  },
  {
   "cell_type": "code",
   "execution_count": 10,
   "id": "6fdce236-837c-41f2-9883-63f5a9962aa9",
   "metadata": {
    "id": "6fdce236-837c-41f2-9883-63f5a9962aa9"
   },
   "outputs": [],
   "source": [
    "class Linear_Regression(nn.Module):\n",
    "    def __init__(self, params):\n",
    "        super(Linear_Regression, self).__init__()\n",
    "        self.fc = nn.Linear(input_size, 1)\n",
    "\n",
    "        self.p = params[\"dropout_rate\"]\n",
    "        if self.p != None:\n",
    "            self.dropout = nn.Dropout(self.p)\n",
    "\n",
    "    def forward(self, x):\n",
    "        if self.p != None:\n",
    "            x = self.dropout(x)\n",
    "        x = self.fc(x)\n",
    "        return x"
   ]
  },
  {
   "cell_type": "markdown",
   "id": "dfa7335b-9572-45c8-9481-4a0f15595c2e",
   "metadata": {
    "id": "dfa7335b-9572-45c8-9481-4a0f15595c2e"
   },
   "source": [
    "# PyTorch Linear Regression training"
   ]
  },
  {
   "cell_type": "code",
   "execution_count": 11,
   "id": "ca4946c1-cc6b-48bd-8159-8adf0837cc53",
   "metadata": {
    "id": "ca4946c1-cc6b-48bd-8159-8adf0837cc53",
    "outputId": "36cb64e8-3e56-49c3-bf9f-ca27db7d3a59"
   },
   "outputs": [
    {
     "name": "stdout",
     "output_type": "stream",
     "text": [
      "All grid searched values:\n",
      "\t {'epochs': 100, 'batch_size': 5, 'lr': 0.005, 'loss': 'MSE', 'weight_decay': 0, 'dropout_rate': None}\n",
      "\t {'epochs': 100, 'batch_size': 5, 'lr': 0.001, 'loss': 'MSE', 'weight_decay': 0, 'dropout_rate': None}\n",
      "\t {'epochs': 100, 'batch_size': 5, 'lr': 0.0005, 'loss': 'MSE', 'weight_decay': 0, 'dropout_rate': None}\n",
      "\t {'epochs': 100, 'batch_size': 5, 'lr': 0.0001, 'loss': 'MSE', 'weight_decay': 0, 'dropout_rate': None}\n",
      "\t {'epochs': 100, 'batch_size': 5, 'lr': 5e-05, 'loss': 'MSE', 'weight_decay': 0, 'dropout_rate': None}\n",
      "\t {'epochs': 100, 'batch_size': 5, 'lr': 1e-06, 'loss': 'MSE', 'weight_decay': 0, 'dropout_rate': None}\n",
      "\t {'epochs': 100, 'batch_size': 10, 'lr': 0.005, 'loss': 'MSE', 'weight_decay': 0, 'dropout_rate': None}\n",
      "\t {'epochs': 100, 'batch_size': 10, 'lr': 0.001, 'loss': 'MSE', 'weight_decay': 0, 'dropout_rate': None}\n",
      "\t {'epochs': 100, 'batch_size': 10, 'lr': 0.0005, 'loss': 'MSE', 'weight_decay': 0, 'dropout_rate': None}\n",
      "\t {'epochs': 100, 'batch_size': 10, 'lr': 0.0001, 'loss': 'MSE', 'weight_decay': 0, 'dropout_rate': None}\n",
      "\t {'epochs': 100, 'batch_size': 10, 'lr': 5e-05, 'loss': 'MSE', 'weight_decay': 0, 'dropout_rate': None}\n",
      "\t {'epochs': 100, 'batch_size': 10, 'lr': 1e-06, 'loss': 'MSE', 'weight_decay': 0, 'dropout_rate': None}\n",
      "\t {'epochs': 100, 'batch_size': 20, 'lr': 0.005, 'loss': 'MSE', 'weight_decay': 0, 'dropout_rate': None}\n",
      "\t {'epochs': 100, 'batch_size': 20, 'lr': 0.001, 'loss': 'MSE', 'weight_decay': 0, 'dropout_rate': None}\n",
      "\t {'epochs': 100, 'batch_size': 20, 'lr': 0.0005, 'loss': 'MSE', 'weight_decay': 0, 'dropout_rate': None}\n",
      "\t {'epochs': 100, 'batch_size': 20, 'lr': 0.0001, 'loss': 'MSE', 'weight_decay': 0, 'dropout_rate': None}\n",
      "\t {'epochs': 100, 'batch_size': 20, 'lr': 5e-05, 'loss': 'MSE', 'weight_decay': 0, 'dropout_rate': None}\n",
      "\t {'epochs': 100, 'batch_size': 20, 'lr': 1e-06, 'loss': 'MSE', 'weight_decay': 0, 'dropout_rate': None}\n",
      "\t {'epochs': 100, 'batch_size': 50, 'lr': 0.005, 'loss': 'MSE', 'weight_decay': 0, 'dropout_rate': None}\n",
      "\t {'epochs': 100, 'batch_size': 50, 'lr': 0.001, 'loss': 'MSE', 'weight_decay': 0, 'dropout_rate': None}\n",
      "\t {'epochs': 100, 'batch_size': 50, 'lr': 0.0005, 'loss': 'MSE', 'weight_decay': 0, 'dropout_rate': None}\n",
      "\t {'epochs': 100, 'batch_size': 50, 'lr': 0.0001, 'loss': 'MSE', 'weight_decay': 0, 'dropout_rate': None}\n",
      "\t {'epochs': 100, 'batch_size': 50, 'lr': 5e-05, 'loss': 'MSE', 'weight_decay': 0, 'dropout_rate': None}\n",
      "\t {'epochs': 100, 'batch_size': 50, 'lr': 1e-06, 'loss': 'MSE', 'weight_decay': 0, 'dropout_rate': None}\n",
      "\t {'epochs': 100, 'batch_size': 100, 'lr': 0.005, 'loss': 'MSE', 'weight_decay': 0, 'dropout_rate': None}\n",
      "\t {'epochs': 100, 'batch_size': 100, 'lr': 0.001, 'loss': 'MSE', 'weight_decay': 0, 'dropout_rate': None}\n",
      "\t {'epochs': 100, 'batch_size': 100, 'lr': 0.0005, 'loss': 'MSE', 'weight_decay': 0, 'dropout_rate': None}\n",
      "\t {'epochs': 100, 'batch_size': 100, 'lr': 0.0001, 'loss': 'MSE', 'weight_decay': 0, 'dropout_rate': None}\n",
      "\t {'epochs': 100, 'batch_size': 100, 'lr': 5e-05, 'loss': 'MSE', 'weight_decay': 0, 'dropout_rate': None}\n",
      "\t {'epochs': 100, 'batch_size': 100, 'lr': 1e-06, 'loss': 'MSE', 'weight_decay': 0, 'dropout_rate': None}\n",
      "\n",
      "Grid search step 1/30 \t| params: {'epochs': 100, 'batch_size': 5, 'lr': 0.005, 'loss': 'MSE', 'weight_decay': 0, 'dropout_rate': None}\n",
      "Epoch:1 \tTrain loss: 829.5249744\r"
     ]
    },
    {
     "ename": "KeyboardInterrupt",
     "evalue": "",
     "output_type": "error",
     "traceback": [
      "\u001b[1;31m---------------------------------------------------------------------------\u001b[0m",
      "\u001b[1;31mKeyboardInterrupt\u001b[0m                         Traceback (most recent call last)",
      "Cell \u001b[1;32mIn[11], line 19\u001b[0m\n\u001b[0;32m     16\u001b[0m     \u001b[38;5;28mprint\u001b[39m(\u001b[38;5;124m\"\u001b[39m\u001b[38;5;130;01m\\t\u001b[39;00m\u001b[38;5;124m\"\u001b[39m, param)\n\u001b[0;32m     18\u001b[0m \u001b[38;5;66;03m# Grid search\u001b[39;00m\n\u001b[1;32m---> 19\u001b[0m model_LR, train_losses_LR, val_losses_LR, best_params, grid_val_losses, grid_train_losses \u001b[38;5;241m=\u001b[39m \u001b[43mgrid_search\u001b[49m\u001b[43m(\u001b[49m\u001b[43mLinear_Regression\u001b[49m\u001b[43m,\u001b[49m\u001b[43m \u001b[49m\u001b[43mparams\u001b[49m\u001b[43m)\u001b[49m\n",
      "Cell \u001b[1;32mIn[9], line 64\u001b[0m, in \u001b[0;36mgrid_search\u001b[1;34m(model_class, param_variations)\u001b[0m\n\u001b[0;32m     61\u001b[0m params \u001b[38;5;241m=\u001b[39m param_variations[i]\n\u001b[0;32m     62\u001b[0m \u001b[38;5;28mprint\u001b[39m(\u001b[38;5;124m\"\u001b[39m\u001b[38;5;130;01m\\n\u001b[39;00m\u001b[38;5;124mGrid search step \u001b[39m\u001b[38;5;132;01m{}\u001b[39;00m\u001b[38;5;124m/\u001b[39m\u001b[38;5;132;01m{}\u001b[39;00m\u001b[38;5;124m\"\u001b[39m\u001b[38;5;241m.\u001b[39mformat(i \u001b[38;5;241m+\u001b[39m \u001b[38;5;241m1\u001b[39m, \u001b[38;5;28mlen\u001b[39m(param_variations)), \u001b[38;5;124m\"\u001b[39m\u001b[38;5;130;01m\\t\u001b[39;00m\u001b[38;5;124m| params:\u001b[39m\u001b[38;5;124m\"\u001b[39m, params)\n\u001b[1;32m---> 64\u001b[0m model, train_loss, val_loss \u001b[38;5;241m=\u001b[39m \u001b[43mtrain_model\u001b[49m\u001b[43m(\u001b[49m\u001b[43mmodel_class\u001b[49m\u001b[43m,\u001b[49m\u001b[43m \u001b[49m\u001b[43mparams\u001b[49m\u001b[43m,\u001b[49m\u001b[43m \u001b[49m\u001b[43mprint_mode\u001b[49m\u001b[38;5;241;43m=\u001b[39;49m\u001b[38;5;28;43;01mFalse\u001b[39;49;00m\u001b[43m)\u001b[49m\n\u001b[0;32m     66\u001b[0m grid_val_losses\u001b[38;5;241m.\u001b[39mappend(val_loss)\n\u001b[0;32m     67\u001b[0m grid_train_losses\u001b[38;5;241m.\u001b[39mappend(train_loss)\n",
      "Cell \u001b[1;32mIn[9], line 31\u001b[0m, in \u001b[0;36mtrain_model\u001b[1;34m(model_class, params, print_mode)\u001b[0m\n\u001b[0;32m     29\u001b[0m scheduler \u001b[38;5;241m=\u001b[39m lr_scheduler\u001b[38;5;241m.\u001b[39mCosineAnnealingLR(optimizer, T_max\u001b[38;5;241m=\u001b[39m\u001b[38;5;28mint\u001b[39m(epochs \u001b[38;5;241m*\u001b[39m np\u001b[38;5;241m.\u001b[39mceil(X_train_t\u001b[38;5;241m.\u001b[39mshape[\u001b[38;5;241m0\u001b[39m] \u001b[38;5;241m/\u001b[39m batch_size)), eta_min\u001b[38;5;241m=\u001b[39m\u001b[38;5;241m0\u001b[39m) \u001b[38;5;66;03m#Cosine decay\u001b[39;00m\n\u001b[0;32m     30\u001b[0m \u001b[38;5;28;01mfor\u001b[39;00m epoch \u001b[38;5;129;01min\u001b[39;00m \u001b[38;5;28mrange\u001b[39m(\u001b[38;5;241m1\u001b[39m, epochs \u001b[38;5;241m+\u001b[39m \u001b[38;5;241m1\u001b[39m):\n\u001b[1;32m---> 31\u001b[0m     train_loss \u001b[38;5;241m=\u001b[39m \u001b[43mtrain\u001b[49m\u001b[43m(\u001b[49m\u001b[43mepoch\u001b[49m\u001b[43m,\u001b[49m\u001b[43m \u001b[49m\u001b[43mmodel\u001b[49m\u001b[43m,\u001b[49m\u001b[43m \u001b[49m\u001b[43moptimizer\u001b[49m\u001b[43m,\u001b[49m\u001b[43m \u001b[49m\u001b[43mscheduler\u001b[49m\u001b[43m,\u001b[49m\u001b[43m \u001b[49m\u001b[43mX_train_t\u001b[49m\u001b[43m,\u001b[49m\u001b[43m \u001b[49m\u001b[43mY_train_t\u001b[49m\u001b[43m,\u001b[49m\u001b[43m \u001b[49m\u001b[43mbatch_size\u001b[49m\u001b[43m,\u001b[49m\u001b[43m \u001b[49m\u001b[43mloss_fnc\u001b[49m\u001b[43m,\u001b[49m\u001b[43m \u001b[49m\u001b[43mprint_mode\u001b[49m\u001b[43m)\u001b[49m\n\u001b[0;32m     33\u001b[0m     \u001b[38;5;28;01mif\u001b[39;00m print_mode:\n\u001b[0;32m     34\u001b[0m         \u001b[38;5;66;03m# train_loss = test(model, X_train_t, Y_train_t, batch_size, loss_fnc)\u001b[39;00m\n\u001b[0;32m     35\u001b[0m         val_loss   \u001b[38;5;241m=\u001b[39m test(model, X_val_t, Y_val_t, batch_size, loss_fnc)\n",
      "Cell \u001b[1;32mIn[8], line 36\u001b[0m, in \u001b[0;36mtrain\u001b[1;34m(epoch, model, optimizer, scheduler, X, Y, batch_size, loss_fnc, print_mode)\u001b[0m\n\u001b[0;32m     33\u001b[0m loss \u001b[38;5;241m=\u001b[39m loss_fnc(output, batch_target, reduction\u001b[38;5;241m=\u001b[39m\u001b[38;5;124m\"\u001b[39m\u001b[38;5;124mmean\u001b[39m\u001b[38;5;124m\"\u001b[39m)\n\u001b[0;32m     34\u001b[0m total_loss \u001b[38;5;241m+\u001b[39m\u001b[38;5;241m=\u001b[39m loss\u001b[38;5;241m.\u001b[39mitem()\n\u001b[1;32m---> 36\u001b[0m \u001b[43mloss\u001b[49m\u001b[38;5;241;43m.\u001b[39;49m\u001b[43mbackward\u001b[49m\u001b[43m(\u001b[49m\u001b[43m)\u001b[49m\n\u001b[0;32m     37\u001b[0m optimizer\u001b[38;5;241m.\u001b[39mstep()\n\u001b[0;32m     38\u001b[0m scheduler\u001b[38;5;241m.\u001b[39mstep()\n",
      "File \u001b[1;32m~\\anaconda3\\envs\\FinTech\\lib\\site-packages\\torch\\_tensor.py:522\u001b[0m, in \u001b[0;36mTensor.backward\u001b[1;34m(self, gradient, retain_graph, create_graph, inputs)\u001b[0m\n\u001b[0;32m    512\u001b[0m \u001b[38;5;28;01mif\u001b[39;00m has_torch_function_unary(\u001b[38;5;28mself\u001b[39m):\n\u001b[0;32m    513\u001b[0m     \u001b[38;5;28;01mreturn\u001b[39;00m handle_torch_function(\n\u001b[0;32m    514\u001b[0m         Tensor\u001b[38;5;241m.\u001b[39mbackward,\n\u001b[0;32m    515\u001b[0m         (\u001b[38;5;28mself\u001b[39m,),\n\u001b[1;32m   (...)\u001b[0m\n\u001b[0;32m    520\u001b[0m         inputs\u001b[38;5;241m=\u001b[39minputs,\n\u001b[0;32m    521\u001b[0m     )\n\u001b[1;32m--> 522\u001b[0m \u001b[43mtorch\u001b[49m\u001b[38;5;241;43m.\u001b[39;49m\u001b[43mautograd\u001b[49m\u001b[38;5;241;43m.\u001b[39;49m\u001b[43mbackward\u001b[49m\u001b[43m(\u001b[49m\n\u001b[0;32m    523\u001b[0m \u001b[43m    \u001b[49m\u001b[38;5;28;43mself\u001b[39;49m\u001b[43m,\u001b[49m\u001b[43m \u001b[49m\u001b[43mgradient\u001b[49m\u001b[43m,\u001b[49m\u001b[43m \u001b[49m\u001b[43mretain_graph\u001b[49m\u001b[43m,\u001b[49m\u001b[43m \u001b[49m\u001b[43mcreate_graph\u001b[49m\u001b[43m,\u001b[49m\u001b[43m \u001b[49m\u001b[43minputs\u001b[49m\u001b[38;5;241;43m=\u001b[39;49m\u001b[43minputs\u001b[49m\n\u001b[0;32m    524\u001b[0m \u001b[43m\u001b[49m\u001b[43m)\u001b[49m\n",
      "File \u001b[1;32m~\\anaconda3\\envs\\FinTech\\lib\\site-packages\\torch\\autograd\\__init__.py:259\u001b[0m, in \u001b[0;36mbackward\u001b[1;34m(tensors, grad_tensors, retain_graph, create_graph, grad_variables, inputs)\u001b[0m\n\u001b[0;32m    250\u001b[0m inputs \u001b[38;5;241m=\u001b[39m (\n\u001b[0;32m    251\u001b[0m     (inputs,)\n\u001b[0;32m    252\u001b[0m     \u001b[38;5;28;01mif\u001b[39;00m \u001b[38;5;28misinstance\u001b[39m(inputs, (torch\u001b[38;5;241m.\u001b[39mTensor, graph\u001b[38;5;241m.\u001b[39mGradientEdge))\n\u001b[1;32m   (...)\u001b[0m\n\u001b[0;32m    255\u001b[0m     \u001b[38;5;28;01melse\u001b[39;00m \u001b[38;5;28mtuple\u001b[39m()\n\u001b[0;32m    256\u001b[0m )\n\u001b[0;32m    258\u001b[0m grad_tensors_ \u001b[38;5;241m=\u001b[39m _tensor_or_tensors_to_tuple(grad_tensors, \u001b[38;5;28mlen\u001b[39m(tensors))\n\u001b[1;32m--> 259\u001b[0m grad_tensors_ \u001b[38;5;241m=\u001b[39m \u001b[43m_make_grads\u001b[49m\u001b[43m(\u001b[49m\u001b[43mtensors\u001b[49m\u001b[43m,\u001b[49m\u001b[43m \u001b[49m\u001b[43mgrad_tensors_\u001b[49m\u001b[43m,\u001b[49m\u001b[43m \u001b[49m\u001b[43mis_grads_batched\u001b[49m\u001b[38;5;241;43m=\u001b[39;49m\u001b[38;5;28;43;01mFalse\u001b[39;49;00m\u001b[43m)\u001b[49m\n\u001b[0;32m    260\u001b[0m \u001b[38;5;28;01mif\u001b[39;00m retain_graph \u001b[38;5;129;01mis\u001b[39;00m \u001b[38;5;28;01mNone\u001b[39;00m:\n\u001b[0;32m    261\u001b[0m     retain_graph \u001b[38;5;241m=\u001b[39m create_graph\n",
      "File \u001b[1;32m~\\anaconda3\\envs\\FinTech\\lib\\site-packages\\torch\\autograd\\__init__.py:142\u001b[0m, in \u001b[0;36m_make_grads\u001b[1;34m(outputs, grads, is_grads_batched)\u001b[0m\n\u001b[0;32m    136\u001b[0m         msg \u001b[38;5;241m=\u001b[39m (\n\u001b[0;32m    137\u001b[0m             \u001b[38;5;124m\"\u001b[39m\u001b[38;5;124mgrad can be implicitly created only for real scalar outputs\u001b[39m\u001b[38;5;124m\"\u001b[39m\n\u001b[0;32m    138\u001b[0m             \u001b[38;5;124mf\u001b[39m\u001b[38;5;124m\"\u001b[39m\u001b[38;5;124m but got \u001b[39m\u001b[38;5;132;01m{\u001b[39;00mout\u001b[38;5;241m.\u001b[39mdtype\u001b[38;5;132;01m}\u001b[39;00m\u001b[38;5;124m\"\u001b[39m\n\u001b[0;32m    139\u001b[0m         )\n\u001b[0;32m    140\u001b[0m         \u001b[38;5;28;01mraise\u001b[39;00m \u001b[38;5;167;01mRuntimeError\u001b[39;00m(msg)\n\u001b[0;32m    141\u001b[0m     new_grads\u001b[38;5;241m.\u001b[39mappend(\n\u001b[1;32m--> 142\u001b[0m         \u001b[43mtorch\u001b[49m\u001b[38;5;241;43m.\u001b[39;49m\u001b[43mones_like\u001b[49m\u001b[43m(\u001b[49m\u001b[43mout\u001b[49m\u001b[43m,\u001b[49m\u001b[43m \u001b[49m\u001b[43mmemory_format\u001b[49m\u001b[38;5;241;43m=\u001b[39;49m\u001b[43mtorch\u001b[49m\u001b[38;5;241;43m.\u001b[39;49m\u001b[43mpreserve_format\u001b[49m\u001b[43m)\u001b[49m\n\u001b[0;32m    143\u001b[0m     )\n\u001b[0;32m    144\u001b[0m \u001b[38;5;28;01melse\u001b[39;00m:\n\u001b[0;32m    145\u001b[0m     new_grads\u001b[38;5;241m.\u001b[39mappend(\u001b[38;5;28;01mNone\u001b[39;00m)\n",
      "\u001b[1;31mKeyboardInterrupt\u001b[0m: "
     ]
    }
   ],
   "source": [
    "# Parameters for grid search\n",
    "epochs = [100]\n",
    "batch_size = [10, 20, 50, 100, 1000, 10000]\n",
    "dropout_rate = [None]\n",
    "lrs = [5e-3, 1e-3, 5e-4, 1e-4, 5e-5]\n",
    "weight_decay = [0]\n",
    "loss = [\"MSE\"]\n",
    "\n",
    "# Parameter formatting\n",
    "all_param_vals = [epochs, batch_size, lrs, loss, weight_decay, dropout_rate]\n",
    "feature_names = [\"epochs\", \"batch_size\", \"lr\", \"loss\", \"weight_decay\", \"dropout_rate\"]\n",
    "params = create_param_dict_from_lists(all_param_vals, feature_names)\n",
    "\n",
    "print(\"All grid searched values:\")\n",
    "for param in params:\n",
    "    print(\"\\t\", param)\n",
    "\n",
    "# Grid search\n",
    "model_LR, train_losses_LR, val_losses_LR, best_params, grid_val_losses, grid_train_losses = grid_search(Linear_Regression, params)"
   ]
  },
  {
   "cell_type": "code",
   "execution_count": null,
   "id": "56ad2786-4e08-4b52-a931-b59b404179eb",
   "metadata": {
    "id": "56ad2786-4e08-4b52-a931-b59b404179eb",
    "outputId": "83c12128-495a-4eb1-d93d-ba034341686b"
   },
   "outputs": [],
   "source": [
    "# Show grid search progress\n",
    "train_grid = np.zeros((len(lrs), len(batch_size)))\n",
    "val_grid = np.zeros((len(lrs), len(batch_size)))\n",
    "\n",
    "for i in range(len(grid_val_losses)):\n",
    "    train_grid[i % len(lrs), i // len(lrs)] = grid_train_losses[i]\n",
    "    val_grid[i % len(lrs), i // len(lrs)] = grid_val_losses[i]\n",
    "\n",
    "plot_grid(grid_values=train_grid, title=\"LR MSE Grid search val losses\", x_label=\"batch_size\", y_label=\"learning rate\", x_values=batch_size, y_values=lrs)\n",
    "plot_grid(grid_values=val_grid, title=\"LR MSE Grid search train losses\", x_label=\"batch_size\", y_label=\"learning rate\", x_values=batch_size, y_values=lrs)\n",
    "\n",
    "# Plot the training progress\n",
    "plot_losses(train_losses_LR, val_losses_LR, \"Linear Regression\")\n",
    "\n",
    "# Show final model evaluation\n",
    "print(\"best_params: \", best_params)\n",
    "evaluate_model(model_LR, batch_size=1000)"
   ]
  },
  {
   "cell_type": "markdown",
   "id": "3d45ab82-509e-4b89-98a4-7c3c062bc5ba",
   "metadata": {},
   "source": [
    "# PyTorch MLP implementation"
   ]
  },
  {
   "cell_type": "code",
   "execution_count": null,
   "id": "104b489b-de22-4a28-b40d-39da261c04e4",
   "metadata": {},
   "outputs": [],
   "source": [
    "class MLP_Regressor(nn.Module):\n",
    "    def __init__(self, params):\n",
    "        super(MLP_Regressor, self).__init__()\n",
    "\n",
    "        self.hidden_size = params[\"hidden_size\"]\n",
    "        self.input_dropout_rate = params[\"input_dropout_rate\"]\n",
    "        self.hidden_dropout_rate = params[\"hidden_dropout_rate\"]\n",
    "\n",
    "        self.fc1 = nn.Linear(input_size, self.hidden_size)\n",
    "        self.fc2 = nn.Linear(self.hidden_size, 1)\n",
    "\n",
    "        if self.input_dropout_rate != None:\n",
    "            self.input_dropout = nn.Dropout(self.input_dropout_rate)\n",
    "        if self.hidden_dropout_rate != None:\n",
    "            self.hidden_dropout = nn.Dropout(self.hidden_dropout_rate)\n",
    "\n",
    "    def forward(self, x):\n",
    "        if self.input_dropout_rate != None:\n",
    "            x = self.input_dropout(x)\n",
    "\n",
    "        x = torch.relu(self.fc1(x))\n",
    "\n",
    "        if self.hidden_dropout_rate != None:\n",
    "            x = self.hidden_dropout(x)\n",
    "        x = self.fc2(x)\n",
    "\n",
    "        return x"
   ]
  },
  {
   "cell_type": "markdown",
   "id": "ab4503b8-b67d-4ad1-9165-d908bea9a378",
   "metadata": {},
   "source": [
    "# PyTorch MLP training"
   ]
  },
  {
   "cell_type": "code",
   "execution_count": null,
   "id": "df1f3cc6-48c4-4e35-98bd-9caf61563aca",
   "metadata": {},
   "outputs": [],
   "source": [
    "# Parameters for grid search\n",
    "epochs = [100]\n",
    "batch_size = [20, 50, 100, 1000, 10000]\n",
    "loss = [\"MSE\"]\n",
    "lrs = [5e-3, 1e-3, 5e-4, 1e-4, 5e-5]\n",
    "weight_decay = [0]\n",
    "\n",
    "# input_dropout_rate = [None, 0.5, 0.95]\n",
    "# hidden_dropout_rate = [None, 0.5, 0.95]\n",
    "input_dropout_rate = [None]\n",
    "hidden_dropout_rate = [None]\n",
    "hidden_size = [1000]\n",
    "\n",
    "# Parameter formatting\n",
    "all_param_vals = [epochs, batch_size, lrs, loss, weight_decay, input_dropout_rate, hidden_dropout_rate, hidden_size]\n",
    "feature_names = [\"epochs\", \"batch_size\", \"lr\", \"loss\", \"weight_decay\", \"input_dropout_rate\", \"hidden_dropout_rate\", \"hidden_size\"]\n",
    "params = create_param_dict_from_lists(all_param_vals, feature_names)\n",
    "\n",
    "print(\"All grid searched values:\\n\")\n",
    "for param in params:\n",
    "    print(param)\n",
    "\n",
    "# Grid search\n",
    "model_MLP, train_losses_MLP, val_losses_MLP, best_params, grid_val_losses, grid_train_losses = grid_search(MLP_Regressor, params)"
   ]
  },
  {
   "cell_type": "code",
   "execution_count": null,
   "id": "cbf75557-59e9-45f5-94fc-42ef681a0fc7",
   "metadata": {},
   "outputs": [],
   "source": [
    "#Show grid search progress\n",
    "train_grid = np.zeros((len(lrs), len(batch_size)))\n",
    "val_grid = np.zeros((len(lrs), len(batch_size)))\n",
    "\n",
    "for i in range(len(grid_val_losses)):\n",
    "    train_grid[i % len(lrs), i // len(lrs)] = grid_train_losses[i]\n",
    "    val_grid[i % len(lrs), i // len(lrs)] = grid_val_losses[i]\n",
    "\n",
    "plot_grid(grid_values=train_grid, title=\"MLP MSE Grid search val losses\", x_label=\"batch_size\", y_label=\"learning rate\", x_values=batch_size, y_values=lrs)\n",
    "plot_grid(grid_values=val_grid, title=\"MLP MSE Grid search train losses\", x_label=\"batch_size\", y_label=\"learning rate\", x_values=batch_size, y_values=lrs)\n",
    "\n",
    "# Plot the training progress\n",
    "plot_losses(train_losses_MLP, val_losses_MLP, \"MLP Regressor\")\n",
    "\n",
    "# Show final model evaluation\n",
    "print(\"best_params: \", best_params)\n",
    "evaluate_model(model_MLP, batch_size=1000)"
   ]
  },
  {
   "cell_type": "code",
   "execution_count": null,
   "id": "6b048c67-54bc-45f0-96c7-9767d02b1652",
   "metadata": {},
   "outputs": [],
   "source": []
  },
  {
   "cell_type": "code",
   "execution_count": null,
   "id": "04bc0d65-7003-4eea-910f-5fa0580bc6a3",
   "metadata": {},
   "outputs": [],
   "source": [
    "hidden_size = [10000]\n",
    "\n",
    "# Parameter formatting\n",
    "all_param_vals = [epochs, batch_size, lrs, loss, weight_decay, input_dropout_rate, hidden_dropout_rate, hidden_size]\n",
    "feature_names = [\"epochs\", \"batch_size\", \"lr\", \"loss\", \"weight_decay\", \"input_dropout_rate\", \"hidden_dropout_rate\", \"hidden_size\"]\n",
    "params = create_param_dict_from_lists(all_param_vals, feature_names)\n",
    "\n",
    "print(\"All grid searched values:\\n\")\n",
    "for param in params:\n",
    "    print(param)\n",
    "\n",
    "# Grid search\n",
    "model_MLP, train_losses_MLP, val_losses_MLP, best_params, grid_val_losses, grid_train_losses = grid_search(MLP_Regressor, params)"
   ]
  },
  {
   "cell_type": "code",
   "execution_count": null,
   "id": "f12693d8-2d22-48c0-8bec-c039b864f789",
   "metadata": {},
   "outputs": [],
   "source": [
    "#Show grid search progress\n",
    "train_grid = np.zeros((len(lrs), len(batch_size)))\n",
    "val_grid = np.zeros((len(lrs), len(batch_size)))\n",
    "\n",
    "for i in range(len(grid_val_losses)):\n",
    "    train_grid[i % len(lrs), i // len(lrs)] = grid_train_losses[i]\n",
    "    val_grid[i % len(lrs), i // len(lrs)] = grid_val_losses[i]\n",
    "\n",
    "plot_grid(grid_values=train_grid, title=\"MLP MSE Grid search val losses\", x_label=\"batch_size\", y_label=\"learning rate\", x_values=batch_size, y_values=lrs)\n",
    "plot_grid(grid_values=val_grid, title=\"MLP MSE Grid search train losses\", x_label=\"batch_size\", y_label=\"learning rate\", x_values=batch_size, y_values=lrs)\n",
    "\n",
    "# Plot the training progress\n",
    "plot_losses(train_losses_MLP, val_losses_MLP, \"MLP Regressor\")\n",
    "\n",
    "# Show final model evaluation\n",
    "print(\"best_params: \", best_params)\n",
    "evaluate_model(model_MLP, batch_size=1000)"
   ]
  }
 ],
 "metadata": {
  "colab": {
   "name": "",
   "version": ""
  },
  "kernelspec": {
   "display_name": "Python 3 (ipykernel)",
   "language": "python",
   "name": "python3"
  },
  "language_info": {
   "codemirror_mode": {
    "name": "ipython",
    "version": 3
   },
   "file_extension": ".py",
   "mimetype": "text/x-python",
   "name": "python",
   "nbconvert_exporter": "python",
   "pygments_lexer": "ipython3",
   "version": "3.10.14"
  }
 },
 "nbformat": 4,
 "nbformat_minor": 5
}
