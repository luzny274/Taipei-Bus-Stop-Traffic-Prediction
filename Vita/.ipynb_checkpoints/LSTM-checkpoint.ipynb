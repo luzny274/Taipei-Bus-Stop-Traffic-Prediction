{
 "cells": [
  {
   "cell_type": "markdown",
   "id": "1eb4068e-187b-4d74-8b55-0e5e6a65e6a4",
   "metadata": {},
   "source": [
    "# Initialization"
   ]
  },
  {
   "cell_type": "code",
   "execution_count": 1,
   "id": "641c1f78-9663-490b-9f9a-83c6e6d889a9",
   "metadata": {},
   "outputs": [
    {
     "name": "stdout",
     "output_type": "stream",
     "text": [
      "categorical_variables: ['day_in_a_week', 'month', 'hour', '中山_status', '北投_status', '北門_status', '古亭_status', '士林_status', '大橋頭_status', '松山_status']\n",
      "metro_flow index:  [0, 1, 2, 3, 4, 5, 6] \n",
      "categorical indices:  [14, 15, 16, 36, 37, 38, 39, 40, 41, 42] \n",
      "numerical indices:  [7, 8, 9, 10, 11, 12, 13, 17, 18, 19, 20, 21, 22, 23, 24, 25, 26, 27, 28, 29, 30, 31, 32, 33, 34, 35, 43, 44, 45, 46, 47, 48, 49, 50, 51, 52, 53, 54, 55, 56, 57, 58, 59, 60, 61, 62, 63, 64, 65, 66, 67, 68, 69, 70, 71, 72, 73, 74, 75, 76, 77, 78, 79, 80, 81, 82, 83, 84, 85, 86, 87, 88, 89, 90, 91, 92, 93, 94, 95, 96, 97, 98, 99, 100, 101, 102, 103, 104, 105, 106, 107, 108, 109, 110, 111, 112, 113, 114, 115, 116, 117, 118, 119, 120, 121, 122, 123, 124, 125, 126, 127, 128, 129, 130, 131, 132, 133, 134, 135, 136, 137, 138, 139, 140, 141, 142, 143, 144, 145, 146, 147]\n",
      "\n",
      "\n",
      "7 unique day_in_a_week:\t [2.0, 3.0, 4.0, 5.0, 6.0, 0.0, 1.0]\n",
      "12 unique month:\t [6.0, 7.0, 8.0, 9.0, 10.0, 11.0, 12.0, 1.0, 2.0, 3.0, 4.0, 5.0]\n",
      "24 unique hour:\t [5.0, 6.0, 7.0, 8.0, 9.0, 10.0, 11.0, 12.0, 13.0, 14.0, 15.0, 16.0, 17.0, 18.0, 19.0, 20.0, 21.0, 22.0, 23.0, 0.0, 1.0, 2.0, 3.0, 4.0]\n",
      "4 unique 中山_status:\t ['良好', '普通', '對敏感族群不健康', nan]\n",
      "中山_status is a string!\n",
      "4 unique 北投_status:\t ['良好', '普通', '對敏感族群不健康', nan]\n",
      "北投_status is a string!\n",
      "5 unique 北門_status:\t ['良好', '普通', nan, '對敏感族群不健康', '對所有族群不健康']\n",
      "北門_status is a string!\n",
      "5 unique 古亭_status:\t ['良好', '普通', '對敏感族群不健康', '對所有族群不健康', nan]\n",
      "古亭_status is a string!\n",
      "4 unique 士林_status:\t ['良好', '普通', nan, '對敏感族群不健康']\n",
      "士林_status is a string!\n",
      "4 unique 大橋頭_status:\t ['良好', '普通', nan, '對敏感族群不健康']\n",
      "大橋頭_status is a string!\n",
      "5 unique 松山_status:\t ['良好', '普通', '對敏感族群不健康', '對所有族群不健康', nan]\n",
      "松山_status is a string!\n",
      "Processing string categories\n",
      "\tFirst occurance of 良好: 0\n",
      "\tFirst occurance of 普通: 5\n",
      "\tFirst occurance of 對敏感族群不健康: 1123\n",
      "\tFirst occurance of 對所有族群不健康: 2254\n",
      "\n",
      "Train-val-test split\n",
      "\tTrain start index: 0\n",
      "\tVal start index: 7904\n",
      "\tTest start index: 9033\n"
     ]
    },
    {
     "name": "stderr",
     "output_type": "stream",
     "text": [
      "C:\\Users\\vital\\anaconda3\\envs\\FinTech\\lib\\site-packages\\numpy\\lib\\nanfunctions.py:1217: RuntimeWarning: All-NaN slice encountered\n",
      "  return function_base._ureduce(a, func=_nanmedian, keepdims=keepdims,\n",
      "C:\\Users\\vital\\anaconda3\\envs\\FinTech\\lib\\site-packages\\numpy\\lib\\nanfunctions.py:1384: RuntimeWarning: All-NaN slice encountered\n",
      "  return _nanquantile_unchecked(\n"
     ]
    },
    {
     "name": "stdout",
     "output_type": "stream",
     "text": [
      "Y_test_raw mean:  \t 2309.976980965029\n",
      "Y_test_raw median:\t 1760.0\n",
      "Y_test_raw std:   \t 2051.8194300373616\n",
      "\n",
      "Initializing PyTorch...\n",
      "Cuda available:  True\n",
      "Using Cuda:      True\n",
      "NVIDIA GeForce RTX 3060\n"
     ]
    }
   ],
   "source": [
    "import torch\n",
    "import torchvision\n",
    "import torch.nn as nn\n",
    "import torch.nn.functional as F\n",
    "import torch.optim as optim\n",
    "import torch.optim.lr_scheduler as lr_scheduler\n",
    "\n",
    "import numpy as np\n",
    "import copy\n",
    "import time\n",
    "\n",
    "import preprocess\n",
    "import pytorch_utils\n",
    "\n",
    "\n",
    "dataset = preprocess.DatasetPreprocess(\"FinalData_Reshaped.csv\", sequence_length=18, is_dataset_reshaped = True)\n",
    "\n",
    "print(\"\\nInitializing PyTorch...\")\n",
    "utils = pytorch_utils.Utils(dataset, use_cuda = True)\n",
    "\n",
    "timeSeries_input_size = dataset.timeSeries_train.shape[2]\n",
    "input_size = dataset.X_train_c.shape[1]\n",
    "output_size = dataset.Y_train.shape[1]"
   ]
  },
  {
   "cell_type": "markdown",
   "id": "6aabd9aa-59ef-489c-a9e1-45a992dfdc08",
   "metadata": {},
   "source": [
    "# Pure LSTM Implementation"
   ]
  },
  {
   "cell_type": "code",
   "execution_count": 14,
   "id": "633813cd-a654-4207-9e68-a97c47e6dfcd",
   "metadata": {},
   "outputs": [],
   "source": [
    "class LSTM_base(nn.Module):\n",
    "    def __init__(self, params):\n",
    "        super(LSTM_base, self).__init__()\n",
    "\n",
    "        self.hidden_size = params['hidden_size']\n",
    "        self.num_layers  = params['num_layers']\n",
    "        self.p           = params['dropout_rate']\n",
    "\n",
    "        self.lstm = nn.LSTM(timeSeries_input_size, self.hidden_size, self.num_layers, batch_first=True)\n",
    "        self.fc = nn.Linear(self.hidden_size, output_size)\n",
    "\n",
    "        self.dropout = nn.Dropout(self.p)\n",
    "\n",
    "    def forward(self, x):\n",
    "        X = self.dropout(x.timestampsData)\n",
    "        timeSeries = self.dropout(x.timeSeriesData)\n",
    "\n",
    "        \n",
    "        out, _ = self.lstm(timeSeries)\n",
    "        out = self.dropout(out[:, -1, :])\n",
    "        out = self.fc(out)\n",
    "        return out\n",
    "\n",
    "    def get_input_weights(self):\n",
    "        return self.lstm._parameters['weight_ih_l0']"
   ]
  },
  {
   "cell_type": "code",
   "execution_count": 15,
   "id": "8908b81e-1412-4f42-a780-3db93f5b0ceb",
   "metadata": {},
   "outputs": [
    {
     "name": "stdout",
     "output_type": "stream",
     "text": [
      "gamma per epoch: 1.9952623149688797\n",
      "residual: 6.821210263296962e-13\n",
      "\n",
      "Initial: Train loss: 0.7423718\n",
      "\n",
      "Step:1 \tTrain loss: 0.1300003 \tLR: 0.0001\n",
      "Step:2 \tTrain loss: 0.0997582 \tLR: 0.00019952623149688798\n",
      "Step:3 \tTrain loss: 0.0764836 \tLR: 0.00039810717055349735\n",
      "Step:4 \tTrain loss: 0.0652004 \tLR: 0.0007943282347242817\n",
      "Step:5 \tTrain loss: 0.0616535 \tLR: 0.001584893192461114\n",
      "Step:6 \tTrain loss: 0.1004239 \tLR: 0.0031622776601683807\n",
      "Step:7 \tTrain loss: 0.4682667 \tLR: 0.0063095734448019355\n",
      "Step:8 \tTrain loss: 0.5037425 \tLR: 0.012589254117941678\n",
      "Step:9 \tTrain loss: 1.1667582 \tLR: 0.025118864315095815\n",
      "Step:10 \tTrain loss: 1.3765703 \tLR: 0.05011872336272726\n",
      "\n",
      "Time to train: 259.857s\n"
     ]
    },
    {
     "data": {
      "image/png": "[encoded data removed]",
      "text/plain": [
       "<Figure size 640x480 with 1 Axes>"
      ]
     },
     "metadata": {},
     "output_type": "display_data"
    },
    {
     "name": "stdout",
     "output_type": "stream",
     "text": [
      "Best learning rate: 0.001584893192461114\n",
      "best_lr: 0.001584893192461114\n",
      "batch size of 8192 is larger than the dataset size!\n",
      "max_batch_size: 4096\n"
     ]
    }
   ],
   "source": [
    "# Find the best initial learning rate\n",
    "hidden_size = 512\n",
    "num_layers = 2\n",
    "\n",
    "params = {'batch_size': 4, 'epochs' : 10, 'loss': 'MSE', 'weight_decay': 0, 'hidden_size':hidden_size, 'num_layers':num_layers, 'dropout_rate':0}\n",
    "min_lr = 1e-4\n",
    "max_lr = 1e-1\n",
    "\n",
    "model, train_losses, learning_rates, best_lr_base = utils.Learning_Rate_Range_Test(LSTM_base, min_lr, max_lr, params)\n",
    "print(\"best_lr:\", best_lr_base)\n",
    "\n",
    "# Find the maximum batch size\n",
    "max_batch_size_base = utils.get_max_batch_size(model)"
   ]
  },
  {
   "cell_type": "markdown",
   "id": "81285b0a-e58b-4c18-9271-a85119d65154",
   "metadata": {},
   "source": [
    "# Pure LSTM Training"
   ]
  },
  {
   "cell_type": "code",
   "execution_count": null,
   "id": "bb560aa4-d738-430c-ac3b-dd4f2bc0a7aa",
   "metadata": {},
   "outputs": [
    {
     "name": "stdout",
     "output_type": "stream",
     "text": [
      "All grid searched values:\n",
      "\t {'epochs': 100, 'batch_size': 4, 'lr': 0.001584893192461114, 'batch_growth': False, 'loss': 'MSE', 'weight_decay': 0, 'dropout_rate': 0, 'hidden_size': 512, 'num_layers': 2, 'l1_reg': 0}\n",
      "\t {'epochs': 100, 'batch_size': 4, 'lr': 0.001584893192461114, 'batch_growth': False, 'loss': 'MSE', 'weight_decay': 0, 'dropout_rate': 0, 'hidden_size': 512, 'num_layers': 2, 'l1_reg': 0.0001}\n",
      "\t {'epochs': 100, 'batch_size': 4, 'lr': 0.001584893192461114, 'batch_growth': False, 'loss': 'MSE', 'weight_decay': 0, 'dropout_rate': 0, 'hidden_size': 512, 'num_layers': 2, 'l1_reg': 0.001}\n",
      "\t {'epochs': 100, 'batch_size': 4, 'lr': 0.001584893192461114, 'batch_growth': False, 'loss': 'MSE', 'weight_decay': 0, 'dropout_rate': 0, 'hidden_size': 512, 'num_layers': 2, 'l1_reg': 0.01}\n",
      "\t {'epochs': 100, 'batch_size': 4, 'lr': 0.001584893192461114, 'batch_growth': False, 'loss': 'MSE', 'weight_decay': 0, 'dropout_rate': 0.1, 'hidden_size': 512, 'num_layers': 2, 'l1_reg': 0}\n",
      "\t {'epochs': 100, 'batch_size': 4, 'lr': 0.001584893192461114, 'batch_growth': False, 'loss': 'MSE', 'weight_decay': 0, 'dropout_rate': 0.1, 'hidden_size': 512, 'num_layers': 2, 'l1_reg': 0.0001}\n",
      "\t {'epochs': 100, 'batch_size': 4, 'lr': 0.001584893192461114, 'batch_growth': False, 'loss': 'MSE', 'weight_decay': 0, 'dropout_rate': 0.1, 'hidden_size': 512, 'num_layers': 2, 'l1_reg': 0.001}\n",
      "\t {'epochs': 100, 'batch_size': 4, 'lr': 0.001584893192461114, 'batch_growth': False, 'loss': 'MSE', 'weight_decay': 0, 'dropout_rate': 0.1, 'hidden_size': 512, 'num_layers': 2, 'l1_reg': 0.01}\n",
      "\t {'epochs': 100, 'batch_size': 4, 'lr': 0.001584893192461114, 'batch_growth': False, 'loss': 'MSE', 'weight_decay': 0, 'dropout_rate': 0.2, 'hidden_size': 512, 'num_layers': 2, 'l1_reg': 0}\n",
      "\t {'epochs': 100, 'batch_size': 4, 'lr': 0.001584893192461114, 'batch_growth': False, 'loss': 'MSE', 'weight_decay': 0, 'dropout_rate': 0.2, 'hidden_size': 512, 'num_layers': 2, 'l1_reg': 0.0001}\n",
      "\t {'epochs': 100, 'batch_size': 4, 'lr': 0.001584893192461114, 'batch_growth': False, 'loss': 'MSE', 'weight_decay': 0, 'dropout_rate': 0.2, 'hidden_size': 512, 'num_layers': 2, 'l1_reg': 0.001}\n",
      "\t {'epochs': 100, 'batch_size': 4, 'lr': 0.001584893192461114, 'batch_growth': False, 'loss': 'MSE', 'weight_decay': 0, 'dropout_rate': 0.2, 'hidden_size': 512, 'num_layers': 2, 'l1_reg': 0.01}\n",
      "\t {'epochs': 100, 'batch_size': 4, 'lr': 0.001584893192461114, 'batch_growth': False, 'loss': 'MSE', 'weight_decay': 0, 'dropout_rate': 0.5, 'hidden_size': 512, 'num_layers': 2, 'l1_reg': 0}\n",
      "\t {'epochs': 100, 'batch_size': 4, 'lr': 0.001584893192461114, 'batch_growth': False, 'loss': 'MSE', 'weight_decay': 0, 'dropout_rate': 0.5, 'hidden_size': 512, 'num_layers': 2, 'l1_reg': 0.0001}\n",
      "\t {'epochs': 100, 'batch_size': 4, 'lr': 0.001584893192461114, 'batch_growth': False, 'loss': 'MSE', 'weight_decay': 0, 'dropout_rate': 0.5, 'hidden_size': 512, 'num_layers': 2, 'l1_reg': 0.001}\n",
      "\t {'epochs': 100, 'batch_size': 4, 'lr': 0.001584893192461114, 'batch_growth': False, 'loss': 'MSE', 'weight_decay': 0, 'dropout_rate': 0.5, 'hidden_size': 512, 'num_layers': 2, 'l1_reg': 0.01}\n",
      "\n",
      "Grid search step 1/16 \t| params: {'epochs': 100, 'batch_size': 4, 'lr': 0.001584893192461114, 'batch_growth': False, 'loss': 'MSE', 'weight_decay': 0, 'dropout_rate': 0, 'hidden_size': 512, 'num_layers': 2, 'l1_reg': 0}\n",
      "Epoch:20 \tTrain loss: 0.0077850\r"
     ]
    }
   ],
   "source": [
    "# Parameters for grid search\n",
    "epochs = [100]\n",
    "batch_size = [4]\n",
    "lrs = [best_lr_base]\n",
    "weight_decay = [0]\n",
    "batch_growths = [False]\n",
    "loss = [\"MSE\"]\n",
    "hidden_sizes = [hidden_size]\n",
    "num_layerss = [num_layers]\n",
    "\n",
    "l1_reg = [0, 1e-4, 1e-3, 1e-2, 1e-1]\n",
    "dropout_rate = [0, 0.1, 0.2, 0.5]\n",
    "\n",
    "hidden_sizes = [hidden_size]\n",
    "num_layerss = [num_layers]\n",
    "\n",
    "\n",
    "# Parameter formatting\n",
    "all_param_vals = [epochs, batch_size, lrs, batch_growths, loss, weight_decay, dropout_rate, hidden_sizes, num_layerss, l1_reg]\n",
    "feature_names = [\"epochs\", \"batch_size\", \"lr\", \"batch_growth\", \"loss\", \"weight_decay\", \"dropout_rate\", \"hidden_size\", \"num_layers\", \"l1_reg\"]\n",
    "params = utils.create_param_dict_from_lists(all_param_vals, feature_names)\n",
    "\n",
    "print(\"All grid searched values:\")\n",
    "for param in params:\n",
    "    print(\"\\t\", param)\n",
    "\n",
    "# Grid search\n",
    "best_val_params_base, grid_train_losses_base, grid_val_losses_base = utils.grid_search(LSTM_base, params, max_batch_size_base)\n",
    "\n",
    "print(\"Final training for the min val loss:\")\n",
    "best_model_base, best_val_loss_base, final_model_base, train_losses_base, val_losses_base = utils.train_model(LSTM_base, best_val_params_base, max_batch_size_base, print_mode=True)"
   ]
  },
  {
   "cell_type": "markdown",
   "id": "1c3c910c-d4a4-492d-ac37-067543dfc5c5",
   "metadata": {},
   "source": [
    "# Pure LSTM Evaluation"
   ]
  },
  {
   "cell_type": "code",
   "execution_count": null,
   "id": "589fbf63-56b3-45ff-8328-fe444df36596",
   "metadata": {},
   "outputs": [],
   "source": [
    "# Show grid search progress\n",
    "train_grid = np.zeros((len(dropout_rate), len(l1_reg)))\n",
    "val_grid = np.zeros((len(dropout_rate), len(l1_reg)))\n",
    "\n",
    "for i in range(len(grid_val_losses_base)):\n",
    "    train_grid[i // len(l1_reg), i % len(l1_reg)] = grid_train_losses_base[i]\n",
    "    val_grid  [i // len(l1_reg), i % len(l1_reg)] = grid_val_losses_base[i]\n",
    "\n",
    "utils.plot_grid(grid_values=train_grid, title=\"Pure LSTM Grid search train losses\", x_label=\"l1_reg\", y_label=\"dropout_rate\", x_values=l1_reg, y_values=dropout_rate)\n",
    "utils.plot_grid(grid_values=val_grid  , title=\"Pure LSTM Grid search val losses\"  , x_label=\"l1_reg\", y_label=\"dropout_rate\", x_values=l1_reg, y_values=dropout_rate)\n",
    "\n",
    "# Plot the training progress\n",
    "utils.plot_losses(train_losses_base, val_losses_base, \"Pure LSTM\")\n",
    "\n",
    "# Show final model evaluation\n",
    "print(\"best val params: \", best_val_params_base)\n",
    "utils.evaluate_model(best_model_base, max_batch_size_base)"
   ]
  }
 ],
 "metadata": {
  "kernelspec": {
   "display_name": "Python 3 (ipykernel)",
   "language": "python",
   "name": "python3"
  },
  "language_info": {
   "codemirror_mode": {
    "name": "ipython",
    "version": 3
   },
   "file_extension": ".py",
   "mimetype": "text/x-python",
   "name": "python",
   "nbconvert_exporter": "python",
   "pygments_lexer": "ipython3",
   "version": "3.10.14"
  }
 },
 "nbformat": 4,
 "nbformat_minor": 5
}
