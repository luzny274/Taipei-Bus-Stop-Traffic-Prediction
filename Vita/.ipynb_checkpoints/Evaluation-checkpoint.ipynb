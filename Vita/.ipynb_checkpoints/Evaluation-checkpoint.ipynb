{
 "cells": [
  {
   "cell_type": "code",
   "execution_count": 1,
   "id": "6dfabe12-020d-484a-8e87-8ca793741ca3",
   "metadata": {},
   "outputs": [
    {
     "name": "stdout",
     "output_type": "stream",
     "text": [
      "categorical_variables: ['day_in_a_week', 'month', 'hour', '中山_status', '北投_status', '北門_status', '古亭_status', '士林_status', '大橋頭_status', '松山_status']\n",
      "metro_flow index:  [0, 1, 2, 3, 4, 5, 6] \n",
      "categorical indices:  [14, 15, 16, 36, 37, 38, 39, 40, 41, 42] \n",
      "numerical indices:  [7, 8, 9, 10, 11, 12, 13, 17, 18, 19, 20, 21, 22, 23, 24, 25, 26, 27, 28, 29, 30, 31, 32, 33, 34, 35, 43, 44, 45, 46, 47, 48, 49, 50, 51, 52, 53, 54, 55, 56, 57, 58, 59, 60, 61, 62, 63, 64, 65, 66, 67, 68, 69, 70, 71, 72, 73, 74, 75, 76, 77, 78, 79, 80, 81, 82, 83, 84, 85, 86, 87, 88, 89, 90, 91, 92, 93, 94, 95, 96, 97, 98, 99, 100, 101, 102, 103, 104, 105, 106, 107, 108, 109, 110, 111, 112, 113, 114, 115, 116, 117, 118, 119, 120, 121, 122, 123, 124, 125, 126, 127, 128, 129, 130, 131, 132, 133, 134, 135, 136, 137, 138, 139, 140, 141, 142, 143, 144, 145, 146, 147]\n",
      "\n",
      "\n",
      "7 unique day_in_a_week:\t [2.0, 3.0, 4.0, 5.0, 6.0, 0.0, 1.0]\n",
      "12 unique month:\t [6.0, 7.0, 8.0, 9.0, 10.0, 11.0, 12.0, 1.0, 2.0, 3.0, 4.0, 5.0]\n",
      "24 unique hour:\t [5.0, 6.0, 7.0, 8.0, 9.0, 10.0, 11.0, 12.0, 13.0, 14.0, 15.0, 16.0, 17.0, 18.0, 19.0, 20.0, 21.0, 22.0, 23.0, 0.0, 1.0, 2.0, 3.0, 4.0]\n",
      "4 unique 中山_status:\t ['良好', '普通', '對敏感族群不健康', nan]\n",
      "中山_status is a string!\n",
      "4 unique 北投_status:\t ['良好', '普通', '對敏感族群不健康', nan]\n",
      "北投_status is a string!\n",
      "5 unique 北門_status:\t ['良好', '普通', nan, '對敏感族群不健康', '對所有族群不健康']\n",
      "北門_status is a string!\n",
      "5 unique 古亭_status:\t ['良好', '普通', '對敏感族群不健康', '對所有族群不健康', nan]\n",
      "古亭_status is a string!\n",
      "4 unique 士林_status:\t ['良好', '普通', nan, '對敏感族群不健康']\n",
      "士林_status is a string!\n",
      "4 unique 大橋頭_status:\t ['良好', '普通', nan, '對敏感族群不健康']\n",
      "大橋頭_status is a string!\n",
      "5 unique 松山_status:\t ['良好', '普通', '對敏感族群不健康', '對所有族群不健康', nan]\n",
      "松山_status is a string!\n",
      "Processing string categories\n",
      "\tFirst occurance of 良好: 0\n",
      "\tFirst occurance of 普通: 5\n",
      "\tFirst occurance of 對敏感族群不健康: 1123\n",
      "\tFirst occurance of 對所有族群不健康: 2254\n",
      "\n",
      "Train-val-test split\n",
      "\tTrain start index: 0\n",
      "\tVal start index: 7904\n",
      "\tTest start index: 9033\n"
     ]
    },
    {
     "name": "stderr",
     "output_type": "stream",
     "text": [
      "C:\\Users\\vital\\anaconda3\\envs\\FinTech\\lib\\site-packages\\numpy\\lib\\nanfunctions.py:1217: RuntimeWarning: All-NaN slice encountered\n",
      "  return function_base._ureduce(a, func=_nanmedian, keepdims=keepdims,\n",
      "C:\\Users\\vital\\anaconda3\\envs\\FinTech\\lib\\site-packages\\numpy\\lib\\nanfunctions.py:1384: RuntimeWarning: All-NaN slice encountered\n",
      "  return _nanquantile_unchecked(\n"
     ]
    },
    {
     "name": "stdout",
     "output_type": "stream",
     "text": [
      "Y_test_raw mean:  \t 2309.976980965029\n",
      "Y_test_raw median:\t 1760.0\n",
      "Y_test_raw std:   \t 2051.8194300373616\n",
      "\n",
      "Initializing PyTorch...\n",
      "Cuda available:  True\n",
      "Using Cuda:      True\n",
      "NVIDIA GeForce RTX 3060\n"
     ]
    }
   ],
   "source": [
    "import torch\n",
    "import torchvision\n",
    "import torch.nn as nn\n",
    "import torch.nn.functional as F\n",
    "import torch.optim as optim\n",
    "import torch.optim.lr_scheduler as lr_scheduler\n",
    "\n",
    "import numpy as np\n",
    "import copy\n",
    "import time\n",
    "\n",
    "import preprocess\n",
    "import pytorch_utils\n",
    "\n",
    "\n",
    "dataset = preprocess.DatasetPreprocess(\"FinalData_Reshaped.csv\", sequence_length=0, is_dataset_reshaped = True)\n",
    "\n",
    "print(\"\\nInitializing PyTorch...\")\n",
    "utils = pytorch_utils.Utils(dataset, use_cuda = True)\n",
    "\n",
    "input_size = dataset.X_train_c.shape[1]\n",
    "output_size = dataset.Y_train.shape[1]"
   ]
  },
  {
   "cell_type": "code",
   "execution_count": 3,
   "id": "80879627-b4de-4bdd-9982-740c605a89fa",
   "metadata": {},
   "outputs": [],
   "source": [
    "np.savetxt('Results/X_train.csv', dataset.X_train_c, delimiter = \",\")\n",
    "np.savetxt('Results/X_val.csv'  , dataset.X_val_c  , delimiter = \",\")\n",
    "np.savetxt('Results/X_test.csv' , dataset.X_test_c , delimiter = \",\")\n",
    "\n",
    "np.savetxt('Results/Y_train.csv', dataset.Y_train  , delimiter = \",\")\n",
    "np.savetxt('Results/Y_val.csv'  , dataset.Y_val    , delimiter = \",\")\n",
    "np.savetxt('Results/Y_test.csv' , dataset.Y_test   , delimiter = \",\")"
   ]
  },
  {
   "cell_type": "code",
   "execution_count": null,
   "id": "1c689c63-ed1b-4047-97d2-70c6d14137db",
   "metadata": {},
   "outputs": [],
   "source": []
  }
 ],
 "metadata": {
  "kernelspec": {
   "display_name": "Python 3 (ipykernel)",
   "language": "python",
   "name": "python3"
  },
  "language_info": {
   "codemirror_mode": {
    "name": "ipython",
    "version": 3
   },
   "file_extension": ".py",
   "mimetype": "text/x-python",
   "name": "python",
   "nbconvert_exporter": "python",
   "pygments_lexer": "ipython3",
   "version": "3.10.14"
  }
 },
 "nbformat": 4,
 "nbformat_minor": 5
}
